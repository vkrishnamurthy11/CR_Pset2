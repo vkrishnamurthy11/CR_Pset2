{
 "cells": [
  {
   "cell_type": "code",
   "execution_count": 1,
   "metadata": {},
   "outputs": [
    {
     "ename": "SyntaxError",
     "evalue": "unexpected EOF while parsing (<ipython-input-1-e8db243075cf>, line 6)",
     "output_type": "error",
     "traceback": [
      "\u001b[0;36m  File \u001b[0;32m\"<ipython-input-1-e8db243075cf>\"\u001b[0;36m, line \u001b[0;32m6\u001b[0m\n\u001b[0;31m    def closets_point(V, xt):\u001b[0m\n\u001b[0m                             ^\u001b[0m\n\u001b[0;31mSyntaxError\u001b[0m\u001b[0;31m:\u001b[0m unexpected EOF while parsing\n"
     ]
    }
   ],
   "source": [
    "import numpy as np\n",
    "import math\n",
    "from shapely.geometry import LineString\n",
    "\n",
    "class Obstacle(self, x1, y1, x2, y2):\n",
    "    self.x1 = x1\n",
    "    self.x2 = x2\n",
    "    self.y1 = y1\n",
    "    self.y2 = y2\n",
    "\n",
    "class State:\n",
    "    def __init__(self, x, y, angle):\n",
    "        self.x = x\n",
    "        self.y = y\n",
    "        self.angle = angle\n",
    "        \n",
    "current_state = State(0, 0, )\n",
    "\n",
    "#Solution to Q2A. Given set of points V, find which one is closest to point Xt\n",
    "#We will use the Euclidean distance to measure the distance and then return the \n",
    "#smallest one.\n",
    "def closest_point(V, xt):\n",
    "    minimum_distance = math.inf\n",
    "    minimum_index = None\n",
    "    for idx,v in V:\n",
    "        distance = np.linalg.norm(v, xt)\n",
    "        if distance < minimum_distance:\n",
    "            minumum_distance = distance\n",
    "            minimum_index = idx\n",
    "    return V[minimum_index]\n",
    "\n",
    "#Given two points, this function returns the distance between them and \n",
    "#the slope of the line between them\n",
    "def get_path(p1, p2):\n",
    "    distance = np.linalg.norm(p1 - p2)\n",
    "    slope = (p1[1] - p2[1])/(p1[0] - p2[0])\n",
    "    return distance, slope\n",
    "\n",
    "#SOlution for Q2B, Given initial point and the goal point, this functions\n",
    "#generates the trajectory for the first second of travel\n",
    "#The control inputs for this trajectory are the rotation needed\n",
    "#to set the robot to the correct orientation and the moving in a straight\n",
    "#line for the remaining time along the straight line connecting the two points.\n",
    "#If the robot has reached the goal state and there is enough time available, \n",
    "#the robot will then attempt to change its orientation\n",
    "#to the orientation prescribed by the goal state\n",
    "def one_second_trajectory(xi, xt):\n",
    "    dist, slope = get_path(xi, xt)\n",
    "    angle = math.atan(slope)\n",
    "    if angle < 0:\n",
    "        angle = math.radians(180 + math.degrees(angle))\n",
    "    delta_a = angle - xi.angle\n",
    "    if delta_a < 0:\n",
    "        #rotate clockwise keeping right wheel speed 0\n",
    "    elif delta_a > 0:\n",
    "        #rotate counter clockwise keeping left wheel speed 0\n",
    "    else:\n",
    "        pass\n",
    "        #no rotation needed\n",
    "    #move in the right direction for the remaining time.\n",
    "    #If there is still time after reaching the goal, change orientation to goal state\n",
    "    #return this trajectory\n",
    "\n",
    "#This method check if given a path, whether the path is collision free.\n",
    "#It is a boolean method.\n",
    "def is_collision_free(start_point, end_point, obstacles):\n",
    "    path_string = LineString([start_point, end_point])\n",
    "    for o in obstacles:\n",
    "        l1 = LineString([(o.x1, o.y1)], (o.x2, o.y1))\n",
    "        l2 = LineString([(o.x1, o.y1)], (o.x1, o.y2))\n",
    "        l3 = LineString([(o.x2, o.y2)], (o.x2, o.y1))\n",
    "        l4 = LineString([(o.x2, o.y2)], (o.x1, o.y2))\n",
    "        lines = [l1,l2,l3,l4]\n",
    "        for l in lines:\n",
    "            if line.intersects(l):\n",
    "                return False\n",
    "    return True\n",
    "            \n",
    "\n"
   ]
  },
  {
   "cell_type": "code",
   "execution_count": null,
   "metadata": {},
   "outputs": [],
   "source": []
  }
 ],
 "metadata": {
  "kernelspec": {
   "display_name": "Python 3",
   "language": "python",
   "name": "python3"
  },
  "language_info": {
   "codemirror_mode": {
    "name": "ipython",
    "version": 3
   },
   "file_extension": ".py",
   "mimetype": "text/x-python",
   "name": "python",
   "nbconvert_exporter": "python",
   "pygments_lexer": "ipython3",
   "version": "3.6.8"
  }
 },
 "nbformat": 4,
 "nbformat_minor": 2
}
